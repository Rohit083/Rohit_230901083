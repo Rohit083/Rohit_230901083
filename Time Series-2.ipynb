{
 "cells": [
  {
   "cell_type": "code",
   "execution_count": 1,
   "id": "b8378e22",
   "metadata": {},
   "outputs": [
    {
     "name": "stdout",
     "output_type": "stream",
     "text": [
      "2025-04-07 12:56:19.007135\n"
     ]
    }
   ],
   "source": [
    "import datetime\n",
    "cd=datetime.datetime.now()\n",
    "print(cd)"
   ]
  },
  {
   "cell_type": "code",
   "execution_count": 3,
   "id": "dfb21349",
   "metadata": {},
   "outputs": [
    {
     "name": "stdout",
     "output_type": "stream",
     "text": [
      "\n",
      "Two-digit year: 25\n"
     ]
    }
   ],
   "source": [
    "res=cd.strftime(\"%y\")\n",
    "print(\"\\nTwo-digit year:\", res)"
   ]
  },
  {
   "cell_type": "code",
   "execution_count": 4,
   "id": "498f7253",
   "metadata": {},
   "outputs": [
    {
     "name": "stdout",
     "output_type": "stream",
     "text": [
      "\n",
      "Four-digit year: 2025\n"
     ]
    }
   ],
   "source": [
    "res1=cd.strftime(\"%Y\")\n",
    "print(\"\\nFour-digit year:\", res1)"
   ]
  },
  {
   "cell_type": "code",
   "execution_count": 5,
   "id": "b32c1edd",
   "metadata": {},
   "outputs": [
    {
     "name": "stdout",
     "output_type": "stream",
     "text": [
      "\n",
      "Two-digit month [01, 12]: 04\n"
     ]
    }
   ],
   "source": [
    "res=cd.strftime(\"%m\")\n",
    "print(\"\\nTwo-digit month [01, 12]:\",res)"
   ]
  },
  {
   "cell_type": "code",
   "execution_count": 11,
   "id": "fe17bec6",
   "metadata": {},
   "outputs": [
    {
     "name": "stdout",
     "output_type": "stream",
     "text": [
      "\n",
      "Short version of month Apr\n"
     ]
    }
   ],
   "source": [
    "res=cd.strftime(\"%b\")\n",
    "print(\"\\nShort version of month\", res)"
   ]
  },
  {
   "cell_type": "code",
   "execution_count": 12,
   "id": "235cc25e",
   "metadata": {},
   "outputs": [
    {
     "name": "stdout",
     "output_type": "stream",
     "text": [
      "\n",
      "Full name of month: April\n"
     ]
    }
   ],
   "source": [
    "res=cd.strftime(\"%B\")\n",
    "print(\"\\nFull name of month:\",res)"
   ]
  },
  {
   "cell_type": "code",
   "execution_count": 13,
   "id": "4191fbdf",
   "metadata": {},
   "outputs": [
    {
     "name": "stdout",
     "output_type": "stream",
     "text": [
      "\n",
      "Days of the year: 097\n"
     ]
    }
   ],
   "source": [
    "res=cd.strftime(\"%j\")\n",
    "print(\"\\nDays of the year:\", res)"
   ]
  },
  {
   "cell_type": "code",
   "execution_count": 15,
   "id": "5bb8d470",
   "metadata": {},
   "outputs": [
    {
     "name": "stdout",
     "output_type": "stream",
     "text": [
      "\n",
      "Shortcut for %m/%d/%y (e.g., 04/18/12): 04/07/25\n"
     ]
    }
   ],
   "source": [
    "res=cd.strftime(\"%D\")\n",
    "print(\"\\nShortcut for %m/%d/%y (e.g., 04/18/12):\", res)"
   ]
  },
  {
   "cell_type": "code",
   "execution_count": 16,
   "id": "1f0ac8a8",
   "metadata": {},
   "outputs": [
    {
     "name": "stdout",
     "output_type": "stream",
     "text": [
      "\n",
      "Two-digit day [01, 31]: 07\n"
     ]
    }
   ],
   "source": [
    "res=cd.strftime(\"%d\")\n",
    "print(\"\\nTwo-digit day [01, 31]:\", res)"
   ]
  },
  {
   "cell_type": "code",
   "execution_count": 18,
   "id": "314cf8e9",
   "metadata": {},
   "outputs": [
    {
     "name": "stdout",
     "output_type": "stream",
     "text": [
      "\n",
      "Short version of day Mon\n"
     ]
    }
   ],
   "source": [
    "res=cd.strftime(\"%a\")\n",
    "print(\"\\nShort version of day\", res)"
   ]
  },
  {
   "cell_type": "code",
   "execution_count": 19,
   "id": "7ab8af41",
   "metadata": {},
   "outputs": [
    {
     "name": "stdout",
     "output_type": "stream",
     "text": [
      "\n",
      "Full name of a day: A\n"
     ]
    }
   ],
   "source": [
    "res=cd.strftime(\"A\")\n",
    "print(\"\\nFull name of a day:\", res)"
   ]
  },
  {
   "cell_type": "code",
   "execution_count": 20,
   "id": "ef100dc5",
   "metadata": {},
   "outputs": [
    {
     "name": "stdout",
     "output_type": "stream",
     "text": [
      ";\n",
      "Hour (24-hour clock) [00, 23]: 12\n"
     ]
    }
   ],
   "source": [
    "res=cd.strftime(\"%H\")\n",
    "print(\";\\nHour (24-hour clock) [00, 23]:\",res)"
   ]
  },
  {
   "cell_type": "code",
   "execution_count": 21,
   "id": "09884c7d",
   "metadata": {},
   "outputs": [
    {
     "name": "stdout",
     "output_type": "stream",
     "text": [
      "\n",
      "Hour (12-hour clock) [01, 12] I\n"
     ]
    }
   ],
   "source": [
    "res=cd.strftime(\"I\")\n",
    "print(\"\\nHour (12-hour clock) [01, 12]\",res)"
   ]
  },
  {
   "cell_type": "code",
   "execution_count": 24,
   "id": "89f2f4b6",
   "metadata": {},
   "outputs": [
    {
     "name": "stdout",
     "output_type": "stream",
     "text": [
      "\n",
      "Two-digit minute [00, 59]: 56\n"
     ]
    }
   ],
   "source": [
    "res=cd.strftime(\"%M\")\n",
    "print(\"\\nTwo-digit minute [00, 59]:\", res)"
   ]
  },
  {
   "cell_type": "code",
   "execution_count": 28,
   "id": "88f3ff93",
   "metadata": {},
   "outputs": [
    {
     "name": "stdout",
     "output_type": "stream",
     "text": [
      "\n",
      "Second (00, 61] (seconds 60, 61 account for leap seconds): 19\n"
     ]
    }
   ],
   "source": [
    "res=cd.strftime(\"%S\")\n",
    "print(\"\\nSecond (00, 61] (seconds 60, 61 account for leap seconds):\",res)"
   ]
  },
  {
   "cell_type": "code",
   "execution_count": 29,
   "id": "c79ed56c",
   "metadata": {},
   "outputs": [
    {
     "name": "stdout",
     "output_type": "stream",
     "text": [
      "\n",
      "Shortcut for %Y-%m-%d (eg, 2012-4-18): 2025-04-07\n"
     ]
    }
   ],
   "source": [
    "res=cd.strftime(\"%F\")\n",
    "print(\"\\nShortcut for %Y-%m-%d (eg, 2012-4-18):\",res)"
   ]
  },
  {
   "cell_type": "code",
   "execution_count": null,
   "id": "d32b62d4",
   "metadata": {},
   "outputs": [],
   "source": []
  }
 ],
 "metadata": {
  "kernelspec": {
   "display_name": "Python 3 (ipykernel)",
   "language": "python",
   "name": "python3"
  },
  "language_info": {
   "codemirror_mode": {
    "name": "ipython",
    "version": 3
   },
   "file_extension": ".py",
   "mimetype": "text/x-python",
   "name": "python",
   "nbconvert_exporter": "python",
   "pygments_lexer": "ipython3",
   "version": "3.11.3"
  }
 },
 "nbformat": 4,
 "nbformat_minor": 5
}
